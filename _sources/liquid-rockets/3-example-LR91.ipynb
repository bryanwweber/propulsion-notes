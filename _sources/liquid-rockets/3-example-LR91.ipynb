{
 "cells": [
  {
   "cell_type": "code",
   "execution_count": 1,
   "id": "governmental-trust",
   "metadata": {
    "tags": [
     "remove-cell"
    ]
   },
   "outputs": [],
   "source": [
    "from myst_nb import glue"
   ]
  },
  {
   "cell_type": "markdown",
   "id": "engaging-soldier",
   "metadata": {},
   "source": [
    "# Example: LR91 Rocket Motor\n",
    "\n",
    "<!-- This is based on Example 2.1 from Ward, Aerospace Propulsion Systems -->\n",
    "\n",
    "The [LR91 rocket motor](https://en.wikipedia.org/wiki/LR91) uses the liquid bipropellants [nitrogen tetroxide (N2O4)](https://en.wikipedia.org/wiki/Dinitrogen_tetroxide#Use_as_a_rocket_propellant) and [Aerozine 50](https://en.wikipedia.org/wiki/Aerozine_50) (a 50/50 mixture by weight of [hydrazine](https://en.wikipedia.org/wiki/Hydrazine) and [unsymmetrical dimethyl hydrazine](https://en.wikipedia.org/wiki/Unsymmetrical_dimethylhydrazine)). Assume that the LR91 is an ideal rocket motor with nozzle expansion ratio of $\\varepsilon$ = 49.2, chamber pressure of $p_c$ = 5.6 MPa, chamber temperature of $T_c$ = 3,400 K. The exhaust gas products of combustion have a ratio of specific heats $\\gamma$ = 1.3 and a gas constant of $R$ = 390.4 J/(kg K). The nozzle exit diameter is $d_e$ = 1.6 m. Determine:\n",
    "\n",
    "a. the altitude at which the nozzle is designed for optimal expansion ($p_e = p_0$), in km and ft\n",
    "b. the nozzle throat diameter ($d_{\\text{th}}$), in cm and in.\n",
    "c. the mass flow rate ($\\dot{m}$), in kg/s and lb/s\n",
    "d. the ideal thrust at the optimal altitude, in kN and lbf\n",
    "\n",
    "## Solution"
   ]
  },
  {
   "cell_type": "code",
   "execution_count": 2,
   "id": "streaming-millennium",
   "metadata": {},
   "outputs": [],
   "source": [
    "from pint import UnitRegistry\n",
    "import numpy as np\n",
    "from scipy import optimize\n",
    "from ambiance import Atmosphere\n",
    "\n",
    "units = UnitRegistry()\n",
    "\n",
    "T_c = 3400 * units.K\n",
    "p_c = 5.6 * units.MPa\n",
    "d_e = 1.6 * units.m\n",
    "epsilon = 49.2 * units.dimensionless\n",
    "gamma = 1.3 * units.dimensionless\n",
    "W = 21.30 * units.kg / units.kmol\n",
    "R = units.molar_gas_constant / W"
   ]
  },
  {
   "cell_type": "markdown",
   "id": "liquid-graph",
   "metadata": {},
   "source": [
    "### Engineering Model\n",
    "\n",
    "1. Ideal rocket motor, all processes are isentropic\n",
    "2. Expansion in the nozzle is optimized, so $p_e = p_0$\n",
    "3. The specific heat ratio and molecular weight are constant\n",
    "\n",
    "### Procedure\n",
    "\n",
    "To determine the altitude, we need to determine the ambient pressure around the rocket motor. With the ambient pressure, we can look up or find the altitude in standard atmospheric tables.\n",
    "\n",
    "Since we are looking for the optimal expansion, we can find the ambient pressure by finding the exit pressure of the nozzle, since they are equal. The exit pressure of the nozzle is going to be found from the isentropic equations for compressible flow, since we are assuming this is an ideal nozzle.\n",
    "\n",
    "The isentropic equations for compressible flow require the exit Mach number, which we will find from the expansion ratio. Likewise, the nozzle throat diameter is determined by the expansion ratio and the exit diameter.\n",
    "\n",
    "Finally, the mass flow rate can be found from the maximum flow rate equations, the exit velocity from the exit Mach number, and the ideal thrust by multiplying these two quantities.\n",
    "\n",
    "### Work\n",
    "\n",
    "We have two ways of solving for the exit Mach number from the expansion ratio. One is to use the area-Mach-number relation, Eq. {eq}`area-mach-relation`, which we have seen before. The other is to introduce a quantity called the **_X_-function**, defined as:\n",
    "\n",
    "```{math}\n",
    ":label: X-function\n",
    "X = M \\sqrt{\\gamma} \\left[1 + \\frac{\\gamma - 1}{2} M^2\\right]^{\\frac{-\\left(\\gamma + 1\\right)}{2\\left(\\gamma - 1\\right)}}\n",
    "```\n",
    "\n",
    "Notice that the $X$-function is equivalent to the $\\Gamma$ (Gamma) function we defined in Eq. {eq}`Gamma-function` when $M = 1$. Whether you use the area-Mach-number relation, or the $X$-function, you'll get the same answer for $M$ at the end.\n",
    "\n",
    "In terms of the $X$-function, the ideal maximum mass flow rate can be written as:\n",
    "\n",
    "```{math}\n",
    "\\dot{m} = \\frac{p_t A X}{\\sqrt{R T_t}}\n",
    "```\n",
    "\n",
    "Since the mass flow rate in the nozzle must be constant, we can plug in the throat quantities and the exit quantities and equate them. The total pressure and temperature are constant, since the nozzle process is isentropic. In addition, at the throat, the Mach number is one, so $X_{\\text{th}} = \\Gamma$.\n",
    "\n",
    "```{math}\n",
    "\\frac{p_{t} A_{\\text{th}} \\Gamma}{\\sqrt{R T_t}} = \\frac{p_t A_e X_e}{\\sqrt{R T_t}}\n",
    "```\n",
    "\n",
    "From this equation, the gas constant, total pressure, and total temperature will cancel, leaving:\n",
    "\n",
    "```{math}\n",
    "X_e = \\frac{1}{\\varepsilon}\\Gamma = \\frac{1}{\\varepsilon}\\left[\\sqrt{\\gamma}\\left(\\frac{2}{\\gamma + 1}\\right)^{\\frac{\\gamma + 1}{2\\left(\\gamma - 1\\right)}}\\right]\n",
    "```"
   ]
  },
  {
   "cell_type": "code",
   "execution_count": 3,
   "id": "comparable-european",
   "metadata": {},
   "outputs": [],
   "source": [
    "X_e = 1 / epsilon * (np.sqrt(gamma) * (2 / (gamma + 1))**((gamma + 1)/(2*(gamma - 1))))"
   ]
  },
  {
   "cell_type": "code",
   "execution_count": 4,
   "id": "hired-inflation",
   "metadata": {
    "tags": [
     "remove-cell"
    ]
   },
   "outputs": [
    {
     "data": {
      "text/plain": [
       "'0.0136'"
      ]
     },
     "metadata": {
      "scrapbook": {
       "mime_prefix": "application/papermill.record/",
       "name": "X_e"
      }
     },
     "output_type": "display_data"
    }
   ],
   "source": [
    "glue(\"X_e\", f\"{X_e:.4F~P}\", display=False)"
   ]
  },
  {
   "cell_type": "markdown",
   "id": "decent-syracuse",
   "metadata": {},
   "source": [
    "This gives $X_e$ = {glue:text}`X_e`. Then, the exit Mach number is found from Eq. {eq}`X-function`. This function is transcendental in $M_e$, so we use the `scipy.optimize.brentq()` root finding method."
   ]
  },
  {
   "cell_type": "code",
   "execution_count": 5,
   "id": "centered-buffer",
   "metadata": {},
   "outputs": [],
   "source": [
    "def X_function(M, X, gamma):\n",
    "    power = -(gamma + 1) / (2 * (gamma - 1))\n",
    "    return M * np.sqrt(gamma) * (1 + (gamma - 1) / 2 * M**2)**(power) - X\n",
    "M_e = optimize.brentq(\n",
    "    X_function, \n",
    "    1.1,\n",
    "    10.0,\n",
    "    args=(X_e.magnitude, gamma.magnitude)\n",
    ") * units.dimensionless"
   ]
  },
  {
   "cell_type": "code",
   "execution_count": 6,
   "id": "catholic-bench",
   "metadata": {
    "tags": [
     "remove-cell"
    ]
   },
   "outputs": [
    {
     "data": {
      "text/plain": [
       "'5.07'"
      ]
     },
     "metadata": {
      "scrapbook": {
       "mime_prefix": "application/papermill.record/",
       "name": "M_e"
      }
     },
     "output_type": "display_data"
    }
   ],
   "source": [
    "glue(\"M_e\", f\"{M_e:.2F~P}\", display=False)"
   ]
  },
  {
   "cell_type": "markdown",
   "id": "configured-philosophy",
   "metadata": {},
   "source": [
    "This gives an exit Mach number of $M_e$ = {glue:text}`M_e`. Next, we can determine the ratio of the stagnation to the static pressure at the exit from Eq. {eq}`isentropic-pressure-mach`:\n",
    "\n",
    "```{math}\n",
    "\\frac{p_t}{p_e} = \\frac{p_c}{p_0} = \\left(1 + \\frac{\\gamma - 1}{2} M_e^2\\right)^{\\frac{\\gamma}{\\gamma - 1}}\n",
    "```"
   ]
  },
  {
   "cell_type": "code",
   "execution_count": 7,
   "id": "animated-oxford",
   "metadata": {},
   "outputs": [],
   "source": [
    "pc_p0 = (1 + (gamma - 1) / 2 * M_e**2)**(gamma / (gamma - 1))\n",
    "p_0 = (p_c / pc_p0).to(\"Pa\")"
   ]
  },
  {
   "cell_type": "code",
   "execution_count": 8,
   "id": "finite-child",
   "metadata": {
    "tags": [
     "remove-cell"
    ]
   },
   "outputs": [
    {
     "data": {
      "text/plain": [
       "'938.4786'"
      ]
     },
     "metadata": {
      "scrapbook": {
       "mime_prefix": "application/papermill.record/",
       "name": "pc_p0"
      }
     },
     "output_type": "display_data"
    },
    {
     "data": {
      "text/plain": [
       "'5967.10 Pa'"
      ]
     },
     "metadata": {
      "scrapbook": {
       "mime_prefix": "application/papermill.record/",
       "name": "p_0"
      }
     },
     "output_type": "display_data"
    }
   ],
   "source": [
    "glue(\"pc_p0\", f\"{pc_p0:.4F~P}\", display=False)\n",
    "glue(\"p_0\", f\"{p_0:.2F~P}\", display=False)"
   ]
  },
  {
   "cell_type": "markdown",
   "id": "parallel-ecuador",
   "metadata": {},
   "source": [
    "This gives a pressure ratio of {glue:text}`pc_p0` and an ambient pressure of {glue:text}`p_0`. Then, we can use `ambiance` to determine the altitude:"
   ]
  },
  {
   "cell_type": "code",
   "execution_count": 9,
   "id": "architectural-morris",
   "metadata": {},
   "outputs": [],
   "source": [
    "atmos = Atmosphere.from_pressure(p_0.magnitude)\n",
    "h = atmos.h[0] * units.m"
   ]
  },
  {
   "cell_type": "code",
   "execution_count": 10,
   "id": "fleet-nicholas",
   "metadata": {
    "tags": [
     "remove-cell"
    ]
   },
   "outputs": [
    {
     "data": {
      "text/plain": [
       "'19.51 km'"
      ]
     },
     "metadata": {
      "scrapbook": {
       "mime_prefix": "application/papermill.record/",
       "name": "h_meters"
      }
     },
     "output_type": "display_data"
    },
    {
     "data": {
      "text/plain": [
       "'64021 ft'"
      ]
     },
     "metadata": {
      "scrapbook": {
       "mime_prefix": "application/papermill.record/",
       "name": "h_feet"
      }
     },
     "output_type": "display_data"
    }
   ],
   "source": [
    "glue(\"h_meters\", f\"{h.to('km'):.2F~P}\", display=False)\n",
    "glue(\"h_feet\", f\"{h.to('ft'):.0F~P}\", display=False)"
   ]
  },
  {
   "cell_type": "markdown",
   "id": "ecological-florida",
   "metadata": {},
   "source": [
    "Finally, the altitude is $h$ = {glue:text}`h_meters` = {glue:text}`h_feet`.\n",
    "\n",
    "The throat diameter is found from the expansion ratio and the known exit diameter:\n",
    "\n",
    "```{math}\n",
    "\\frac{A_e}{A_{\\text{th}}} = \\frac{d_e^2}{d_{\\text{th}}^2} \\Rightarrow d_{\\text{th}} = d_e\\sqrt{\\frac{1}{\\varepsilon}}\n",
    "```"
   ]
  },
  {
   "cell_type": "code",
   "execution_count": 11,
   "id": "russian-fourth",
   "metadata": {},
   "outputs": [],
   "source": [
    "d_th = d_e * np.sqrt(1 / epsilon)"
   ]
  },
  {
   "cell_type": "code",
   "execution_count": 12,
   "id": "authorized-context",
   "metadata": {
    "tags": [
     "remove-cell"
    ]
   },
   "outputs": [
    {
     "data": {
      "text/plain": [
       "'22.8 cm'"
      ]
     },
     "metadata": {
      "scrapbook": {
       "mime_prefix": "application/papermill.record/",
       "name": "d_th_cm"
      }
     },
     "output_type": "display_data"
    },
    {
     "data": {
      "text/plain": [
       "'9.0 in'"
      ]
     },
     "metadata": {
      "scrapbook": {
       "mime_prefix": "application/papermill.record/",
       "name": "d_th_in"
      }
     },
     "output_type": "display_data"
    }
   ],
   "source": [
    "glue(\"d_th_cm\", f\"{d_th.to('cm'):.1F~P}\", display=False)\n",
    "glue(\"d_th_in\", f\"{d_th.to('in'):.1F~P}\", display=False)"
   ]
  },
  {
   "cell_type": "markdown",
   "id": "breathing-inspection",
   "metadata": {},
   "source": [
    "The diameter is $d_{\\text{th}}$ = {glue:text}`d_th_cm` = {glue:text}`d_th_in`. Then, the mass flow rate can be determined from the exit conditions:"
   ]
  },
  {
   "cell_type": "code",
   "execution_count": 13,
   "id": "revolutionary-technique",
   "metadata": {},
   "outputs": [],
   "source": [
    "A_e = np.pi * d_e**2 / 4\n",
    "mdot = p_c * A_e * X_e / np.sqrt(R * T_c)"
   ]
  },
  {
   "cell_type": "code",
   "execution_count": 14,
   "id": "confirmed-regression",
   "metadata": {
    "tags": [
     "remove-cell"
    ]
   },
   "outputs": [
    {
     "data": {
      "text/plain": [
       "'132.6 kg/s'"
      ]
     },
     "metadata": {
      "scrapbook": {
       "mime_prefix": "application/papermill.record/",
       "name": "mdot_kg"
      }
     },
     "output_type": "display_data"
    },
    {
     "data": {
      "text/plain": [
       "'292.2 lb/s'"
      ]
     },
     "metadata": {
      "scrapbook": {
       "mime_prefix": "application/papermill.record/",
       "name": "mdot_lb"
      }
     },
     "output_type": "display_data"
    }
   ],
   "source": [
    "glue(\"mdot_kg\", f\"{mdot.to('kg/s'):.1F~P}\", display=False)\n",
    "glue(\"mdot_lb\", f\"{mdot.to('lb/s'):.1F~P}\", display=False)"
   ]
  },
  {
   "cell_type": "markdown",
   "id": "pregnant-nashville",
   "metadata": {},
   "source": [
    "The mass flow rate is $\\dot{m}$ = {glue:text}`mdot_kg` = {glue:text}`mdot_lb`. Finally, we can find the exit velocity in a few ways. Let's compute the speed of sound from the static temperature at the exit, and then use the Mach number to find the exit velocity."
   ]
  },
  {
   "cell_type": "code",
   "execution_count": 15,
   "id": "large-hampton",
   "metadata": {},
   "outputs": [],
   "source": [
    "Tt_Te = 1 + (gamma - 1) / 2 * M_e**2\n",
    "T_e = T_c/Tt_Te\n",
    "a_e = np.sqrt(gamma * R * T_e)\n",
    "V_e = M_e * a_e"
   ]
  },
  {
   "cell_type": "code",
   "execution_count": 16,
   "id": "interesting-azerbaijan",
   "metadata": {
    "tags": [
     "remove-cell"
    ]
   },
   "outputs": [
    {
     "data": {
      "text/plain": [
       "'700.7 K'"
      ]
     },
     "metadata": {
      "scrapbook": {
       "mime_prefix": "application/papermill.record/",
       "name": "T_e"
      }
     },
     "output_type": "display_data"
    },
    {
     "data": {
      "text/plain": [
       "'596.30 m/s'"
      ]
     },
     "metadata": {
      "scrapbook": {
       "mime_prefix": "application/papermill.record/",
       "name": "a_e"
      }
     },
     "output_type": "display_data"
    },
    {
     "data": {
      "text/plain": [
       "'3021.89 m/s'"
      ]
     },
     "metadata": {
      "scrapbook": {
       "mime_prefix": "application/papermill.record/",
       "name": "V_e"
      }
     },
     "output_type": "display_data"
    }
   ],
   "source": [
    "glue(\"T_e\", f\"{T_e:.1F~P}\", display=False)\n",
    "glue(\"a_e\", f\"{a_e.to('m/s'):.2F~P}\", display=False)\n",
    "glue(\"V_e\", f\"{V_e.to('m/s'):.2F~P}\", display=False)"
   ]
  },
  {
   "cell_type": "markdown",
   "id": "limited-honduras",
   "metadata": {},
   "source": [
    "The exit static temperature is $T_e$ = {glue:text}`T_e`, the speed of sound is $a_e$ = {glue:text}`a_e`, and the exit velocity is $V_e$ = {glue:text}`V_e`. Finally, the thrust is computed from Eq. {eq}`rocket-thrust`, using the fact that the exit pressure is matched to the ambient."
   ]
  },
  {
   "cell_type": "code",
   "execution_count": 17,
   "id": "attended-separate",
   "metadata": {},
   "outputs": [],
   "source": [
    "F = mdot * V_e"
   ]
  },
  {
   "cell_type": "code",
   "execution_count": 18,
   "id": "practical-native",
   "metadata": {
    "tags": [
     "remove-cell"
    ]
   },
   "outputs": [
    {
     "data": {
      "text/plain": [
       "'400.55 kN'"
      ]
     },
     "metadata": {
      "scrapbook": {
       "mime_prefix": "application/papermill.record/",
       "name": "thrust_N"
      }
     },
     "output_type": "display_data"
    },
    {
     "data": {
      "text/plain": [
       "'90048.15 lbf'"
      ]
     },
     "metadata": {
      "scrapbook": {
       "mime_prefix": "application/papermill.record/",
       "name": "thrust_lbf"
      }
     },
     "output_type": "display_data"
    }
   ],
   "source": [
    "glue(\"thrust_N\", f\"{F.to('kN'):.2F~P}\", display=False)\n",
    "glue(\"thrust_lbf\", f\"{F.to('pound_force'):.2F~P}\", display=False)"
   ]
  },
  {
   "cell_type": "markdown",
   "id": "improved-acrobat",
   "metadata": {},
   "source": [
    "The thrust is $F$ = {glue:text}`thrust_N` = {glue:text}`thrust_lbf`. Alternately, we can calculate the thrust using the ideal thrust coefficient, given by Eq. {eq}`ideal-nozzle-thrust-coefficient`."
   ]
  },
  {
   "cell_type": "code",
   "execution_count": 19,
   "id": "empirical-burden",
   "metadata": {},
   "outputs": [],
   "source": [
    "Gamma = np.sqrt(gamma) * (2 / (gamma + 1))**((gamma + 1)/(2*(gamma - 1)))\n",
    "p_e = p_0\n",
    "pe_pc = (p_e / p_c).to(\"dimensionless\")\n",
    "c_fi = Gamma * np.sqrt(2 * gamma / (gamma - 1) * (1 - pe_pc**((gamma - 1) / gamma)))\n",
    "A_th = np.pi * d_th**2 / 4\n",
    "F_2 = A_th * p_c * c_fi"
   ]
  },
  {
   "cell_type": "code",
   "execution_count": 20,
   "id": "adult-albert",
   "metadata": {
    "tags": [
     "remove-cell"
    ]
   },
   "outputs": [
    {
     "data": {
      "text/plain": [
       "'400.55 kN'"
      ]
     },
     "metadata": {
      "scrapbook": {
       "mime_prefix": "application/papermill.record/",
       "name": "F_2"
      }
     },
     "output_type": "display_data"
    }
   ],
   "source": [
    "glue(\"F_2\", f\"{F_2.to('kN'):.2F~P}\", display=False)"
   ]
  },
  {
   "cell_type": "markdown",
   "id": "loving-destination",
   "metadata": {},
   "source": [
    "With this approach, the thrust is $F$ = {glue:text}`F_2`, equivalent to the first approach. This provides a good check that our work is correct and consistent."
   ]
  }
 ],
 "metadata": {
  "jupytext": {
   "formats": "md:myst",
   "text_representation": {
    "extension": ".md",
    "format_name": "myst"
   }
  },
  "kernelspec": {
   "display_name": "Python 3",
   "language": "python",
   "name": "python3"
  },
  "language_info": {
   "codemirror_mode": {
    "name": "ipython",
    "version": 3
   },
   "file_extension": ".py",
   "mimetype": "text/x-python",
   "name": "python",
   "nbconvert_exporter": "python",
   "pygments_lexer": "ipython3",
   "version": "3.9.1"
  },
  "source_map": [
   13,
   16,
   31,
   46,
   93,
   97,
   100,
   104,
   116,
   119,
   127,
   132,
   136,
   140,
   145,
   149,
   159,
   163,
   167,
   171,
   176,
   180,
   184,
   191,
   196,
   200,
   204,
   208,
   212,
   221,
   224
  ]
 },
 "nbformat": 4,
 "nbformat_minor": 5
}