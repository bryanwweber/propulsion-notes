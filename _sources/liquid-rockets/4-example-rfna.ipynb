{
 "cells": [
  {
   "cell_type": "code",
   "execution_count": 1,
   "id": "organizational-profit",
   "metadata": {
    "tags": [
     "remove-cell"
    ]
   },
   "outputs": [],
   "source": [
    "from myst_nb import glue"
   ]
  },
  {
   "cell_type": "markdown",
   "id": "taken-priest",
   "metadata": {},
   "source": [
    "# Example: JP4/RFNA Rocket Motor\n",
    "\n",
    "<!-- This is based on Problem E11.3 from Sforza, Theory of Aerospace Propulsion -->\n",
    "\n",
    "A liquid propellant rocket motor using [JP-4](https://en.wikipedia.org/wiki/JP-4)/[Red Fuming Nitric Acid (RFNA)](https://en.wikipedia.org/wiki/Red_fuming_nitric_acid) propellant combination must produce 19.6 kN of thrust at sea level. The characteristics of the combustion products are $T_c$ = 3000 K, $\\gamma$ = 1.2 (constant), $W$ = 27 kg/kmol (constant), and $p_c$ = 19.34 atm. Determine:\n",
    "\n",
    "1. the throat and exit diameters, in cm, for matched nozzle exit flow at sea level assuming a nozzle efficiency of $\\eta_n$ = 95%\n",
    "2. the characteristic velocity, $c^*$, in m/s\n",
    "3. the propellant mass flow rate, in kg/s\n",
    "4. the specific impulse of the engine, in s\n",
    "5. the thrust, in kN, at an altitude of 11.5 km where the pressure is $p_0$ = 0.2 atm\n",
    "6. the thrust, in kN, and exit diameter, in cm, assuming matched operation at this altitude and the same throat diameter\n",
    "\n",
    "## Solution"
   ]
  },
  {
   "cell_type": "code",
   "execution_count": 2,
   "id": "secret-trunk",
   "metadata": {},
   "outputs": [],
   "source": [
    "from pint import UnitRegistry\n",
    "import numpy as np\n",
    "\n",
    "units = UnitRegistry()\n",
    "\n",
    "F_sl = 19.6 * units.kN\n",
    "T_c = 3000 * units.K\n",
    "gamma = 1.2 * units.dimensionless\n",
    "W = 27 * units.kg / units.kmol\n",
    "R = units.molar_gas_constant / W\n",
    "c_p = gamma * R / (gamma - 1)\n",
    "p_c = 19.34 * units.atmosphere\n",
    "eta_n = 0.95 * units.dimensionless\n",
    "p_sl = 1 * units.atmosphere\n",
    "p_0 = 0.2 * units.atmosphere"
   ]
  },
  {
   "cell_type": "markdown",
   "id": "biblical-degree",
   "metadata": {},
   "source": [
    "### Engineering Model\n",
    "\n",
    "1. The nozzle is not isentropic, but is characterized by the nozzle efficiency\n",
    "2. The specific heat ratio and molecular weight are constant\n",
    "3. The discharge coefficient and $\\lambda$ are equal to one\n",
    "4. The flow is adiabatic through the nozzle, even though it is not isentropic\n",
    "\n",
    "### Procedure\n",
    "\n",
    "In this problem, we are initially given $p_0$ and told the operation of the nozzle is matched. We are also given $p_c$, so we can use the stagnation-to-static pressure ratio for isentropic flow to determine the ideal exit velocity from Eq. {eq}`ideal-exit-velocity`. Using the nozzle efficiency from Eq. {eq}`nozzle-isentropic-efficiency`, we can correct $V_{e,i}$ to find the actual nozzle exit velocity.\n",
    "\n",
    "Since we are given the thrust and initially the pressure is matched, we can use the actual nozzle exit velocity to calculate the mass flow rate from Eq. {eq}`rocket-thrust`. We can also use the actual nozzle exit velocity to find the actual exit temperature from the energy equation. This determines the actual exit density via the ideal gas law. We can then find the exit area from the definition of the mass flow rate.\n",
    "\n",
    "Then, assuming the discharge coefficient is unity, the mass flow rate coefficient, $c_m$, is equal to the inverse of the characteristic velocity $c^*$. The characteristic velocity is given in terms of the combustion chamber speed of sound at the specific heat ratio by Eq. {eq}`nozzle-characteristic-velocity`. The mass flow rate coefficient can be used to find the throat area.\n",
    "\n",
    "Next, the specific impulse can be determined by dividing the actual exit velocity by the gravitational constant.\n",
    "\n",
    "At the altitude of 11.5 km, we need to correct the thrust by including the pressure thrust in Eq. {eq}`rocket-thrust`.\n",
    "\n",
    "Finally, we need to calculate the thrust and exit diameter at the altitude of 11.5 km assuming matched operation. This can be done by the thrust coefficient, $c_F$, assuming that $\\lambda = c_d = 1$. Since the throat area and chamber conditions are the same, the mass flow rate is the same. This can be used to find the actual exit velocity. From there, the same process as before is used to find the exit diameter.\n",
    "\n",
    "### Work"
   ]
  },
  {
   "cell_type": "code",
   "execution_count": 3,
   "id": "parliamentary-principle",
   "metadata": {},
   "outputs": [],
   "source": [
    "pe_pc = (p_sl / p_c).to(\"dimensionless\")\n",
    "V_ei = np.sqrt(2 * gamma / (gamma - 1) * R * T_c * (1 - pe_pc**((gamma - 1) / gamma))).to(\"m/s\")\n",
    "\n",
    "Ve_sl = V_ei * np.sqrt(eta_n)\n",
    "mdot = (F_sl / Ve_sl).to(\"kg/s\")\n",
    "\n",
    "Te_sl = T_c - Ve_sl**2 / (2 * c_p)\n",
    "rhoe_sl = (p_sl / (R * Te_sl)).to(\"kg/m**3\")\n",
    "Ae_sl = (mdot / (rhoe_sl * Ve_sl)).to(\"cm**2\")\n",
    "de_sl = np.sqrt(4 * Ae_sl / units.pi).to(\"cm\")\n",
    "\n",
    "Gamma = np.sqrt(gamma) * (2 / (gamma + 1))**((gamma + 1) / (2*(gamma - 1)))\n",
    "a_c = np.sqrt(gamma * R * T_c)\n",
    "c_star = (a_c / (Gamma * np.sqrt(gamma))).to(\"m/s\")\n",
    "c_m = 1 / c_star\n",
    "A_th = (mdot / (p_c * c_m)).to(\"cm**2\")\n",
    "d_th = np.sqrt(4 * A_th / units.pi).to(\"cm\")\n",
    "\n",
    "I_sp = (Ve_sl / units.gravity).to(\"s\")\n",
    "\n",
    "F = (mdot * Ve_sl + Ae_sl * (p_sl - p_0)).to(\"kN\")\n",
    "\n",
    "c_V = np.sqrt(eta_n)\n",
    "c_F = c_V * Gamma * np.sqrt(2 * gamma / (gamma - 1) * (1 - (p_0/p_c)**((gamma - 1) / gamma)))\n",
    "F_alt = (c_F * ((19.34 * 101325) * units.Pa) * A_th).to(\"kN\")\n",
    "Ve_alt = (F_alt / mdot).to(\"m/s\")\n",
    "Te_alt = T_c - Ve_alt**2 / (2 * c_p)\n",
    "rhoe_alt = (p_0 / (R * Te_alt)).to(\"kg/m**3\")\n",
    "Ae_alt = (mdot / (rhoe_alt * Ve_alt)).to(\"cm**2\")\n",
    "de_alt = np.sqrt(4 * Ae_alt / units.pi).to(\"cm\")"
   ]
  },
  {
   "cell_type": "code",
   "execution_count": 4,
   "id": "computational-customer",
   "metadata": {
    "tags": [
     "remove-cell"
    ]
   },
   "outputs": [
    {
     "data": {
      "text/plain": [
       "'2078.33 m/s'"
      ]
     },
     "metadata": {
      "scrapbook": {
       "mime_prefix": "application/papermill.record/",
       "name": "V_ei"
      }
     },
     "output_type": "display_data"
    },
    {
     "data": {
      "text/plain": [
       "'2025.71 m/s'"
      ]
     },
     "metadata": {
      "scrapbook": {
       "mime_prefix": "application/papermill.record/",
       "name": "Ve_sl"
      }
     },
     "output_type": "display_data"
    },
    {
     "data": {
      "text/plain": [
       "'9.68 kg/s'"
      ]
     },
     "metadata": {
      "scrapbook": {
       "mime_prefix": "application/papermill.record/",
       "name": "mdot"
      }
     },
     "output_type": "display_data"
    },
    {
     "data": {
      "text/plain": [
       "'1889.54 K'"
      ]
     },
     "metadata": {
      "scrapbook": {
       "mime_prefix": "application/papermill.record/",
       "name": "Te_sl"
      }
     },
     "output_type": "display_data"
    },
    {
     "data": {
      "text/plain": [
       "'0.17 kg/m³'"
      ]
     },
     "metadata": {
      "scrapbook": {
       "mime_prefix": "application/papermill.record/",
       "name": "rhoe_sl"
      }
     },
     "output_type": "display_data"
    },
    {
     "data": {
      "text/plain": [
       "'274.29 cm²'"
      ]
     },
     "metadata": {
      "scrapbook": {
       "mime_prefix": "application/papermill.record/",
       "name": "Ae_sl"
      }
     },
     "output_type": "display_data"
    },
    {
     "data": {
      "text/plain": [
       "'18.69 cm'"
      ]
     },
     "metadata": {
      "scrapbook": {
       "mime_prefix": "application/papermill.record/",
       "name": "de_sl"
      }
     },
     "output_type": "display_data"
    },
    {
     "data": {
      "text/plain": [
       "'1482.06 m/s'"
      ]
     },
     "metadata": {
      "scrapbook": {
       "mime_prefix": "application/papermill.record/",
       "name": "c_star"
      }
     },
     "output_type": "display_data"
    },
    {
     "data": {
      "text/plain": [
       "'73.18 cm²'"
      ]
     },
     "metadata": {
      "scrapbook": {
       "mime_prefix": "application/papermill.record/",
       "name": "A_th"
      }
     },
     "output_type": "display_data"
    },
    {
     "data": {
      "text/plain": [
       "'9.65 cm'"
      ]
     },
     "metadata": {
      "scrapbook": {
       "mime_prefix": "application/papermill.record/",
       "name": "d_th"
      }
     },
     "output_type": "display_data"
    },
    {
     "data": {
      "text/plain": [
       "'206.56 s'"
      ]
     },
     "metadata": {
      "scrapbook": {
       "mime_prefix": "application/papermill.record/",
       "name": "I_sp"
      }
     },
     "output_type": "display_data"
    },
    {
     "data": {
      "text/plain": [
       "'21.82 kN'"
      ]
     },
     "metadata": {
      "scrapbook": {
       "mime_prefix": "application/papermill.record/",
       "name": "F"
      }
     },
     "output_type": "display_data"
    },
    {
     "data": {
      "text/plain": [
       "'22.93 kN'"
      ]
     },
     "metadata": {
      "scrapbook": {
       "mime_prefix": "application/papermill.record/",
       "name": "F_alt"
      }
     },
     "output_type": "display_data"
    },
    {
     "data": {
      "text/plain": [
       "'2369.78 m/s'"
      ]
     },
     "metadata": {
      "scrapbook": {
       "mime_prefix": "application/papermill.record/",
       "name": "Ve_alt"
      }
     },
     "output_type": "display_data"
    },
    {
     "data": {
      "text/plain": [
       "'1480.27 K'"
      ]
     },
     "metadata": {
      "scrapbook": {
       "mime_prefix": "application/papermill.record/",
       "name": "Te_alt"
      }
     },
     "output_type": "display_data"
    },
    {
     "data": {
      "text/plain": [
       "'0.04 kg/m³'"
      ]
     },
     "metadata": {
      "scrapbook": {
       "mime_prefix": "application/papermill.record/",
       "name": "rhoe_alt"
      }
     },
     "output_type": "display_data"
    },
    {
     "data": {
      "text/plain": [
       "'918.41 cm²'"
      ]
     },
     "metadata": {
      "scrapbook": {
       "mime_prefix": "application/papermill.record/",
       "name": "Ae_alt"
      }
     },
     "output_type": "display_data"
    },
    {
     "data": {
      "text/plain": [
       "'34.20 cm'"
      ]
     },
     "metadata": {
      "scrapbook": {
       "mime_prefix": "application/papermill.record/",
       "name": "de_alt"
      }
     },
     "output_type": "display_data"
    }
   ],
   "source": [
    "for name in [\n",
    "    \"V_ei\", \"Ve_sl\", \"mdot\", \"Te_sl\", \"rhoe_sl\", \"Ae_sl\", \"de_sl\",\n",
    "    \"c_star\", \"A_th\", \"d_th\", \"I_sp\", \"F\", \"F_alt\",\n",
    "    \"Ve_alt\", \"Te_alt\", \"rhoe_alt\", \"Ae_alt\", \"de_alt\"\n",
    "    ]:\n",
    "        glue(name, f\"{locals()[name]:.2F~P}\", display=False)"
   ]
  },
  {
   "cell_type": "markdown",
   "id": "inner-volume",
   "metadata": {},
   "source": [
    "### Results\n",
    "\n",
    "| Property  | Value | Property | Value | Property | Value |\n",
    "|-----------|-------|----------|-------|----------|-------|\n",
    "| $V_{e,i}$ | {glue:text}`V_ei`   | $d_e$     | {glue:text}`de_sl`    | $F$ at 11.5 km, matched | {glue:text}`F_alt` |\n",
    "| $V_e$     | {glue:text}`Ve_sl`    | $c^*$     | {glue:text}`c_star` | $V_e$ at 11.5 km, matched | {glue:text}`Ve_alt` |\n",
    "| $\\dot{m}$ | {glue:text}`mdot`   | $A_{\\text{th}}$ | {glue:text}`A_th` | $T_e$ at 11.5 km, matched | {glue:text}`Te_alt` |\n",
    "| $T_e$     | {glue:text}`Te_sl`    | $d_{\\text{th}}$ | {glue:text}`d_th` | $\\rho_e$ at 11.5 km, matched | {glue:text}`rhoe_alt` |\n",
    "| $\\rho_e$  | {glue:text}`rhoe_sl`  | $I_{\\text{sp}}$ | {glue:text}`I_sp` | $A_e$ at 11.5 km, matched | {glue:text}`Ae_alt` |\n",
    "| $A_e$     | {glue:text}`Ae_sl`    | $F$ at 11.5 km  | {glue:text}`F`    | $d_e$ at 11.5 km, matched | {glue:text}`de_alt` |"
   ]
  }
 ],
 "metadata": {
  "jupytext": {
   "formats": "md:myst",
   "text_representation": {
    "extension": ".md",
    "format_name": "myst"
   }
  },
  "kernelspec": {
   "display_name": "Python 3",
   "language": "python",
   "name": "python3"
  },
  "language_info": {
   "codemirror_mode": {
    "name": "ipython",
    "version": 3
   },
   "file_extension": ".py",
   "mimetype": "text/x-python",
   "name": "python",
   "nbconvert_exporter": "python",
   "pygments_lexer": "ipython3",
   "version": "3.9.1"
  },
  "source_map": [
   13,
   16,
   33,
   49,
   74,
   107,
   115
  ]
 },
 "nbformat": 4,
 "nbformat_minor": 5
}